{
 "cells": [
  {
   "cell_type": "code",
   "execution_count": null,
   "id": "47abbabc",
   "metadata": {},
   "outputs": [
    {
     "name": "stdout",
     "output_type": "stream",
     "text": [
      "rt-detr-l summary: 673 layers, 32,970,476 parameters, 0 gradients, 108.3 GFLOPs\n",
      "Ultralytics YOLOv8.2.75  Python-3.8.0 torch-2.4.0+cu121 CPU (Intel Core(TM) i7-14700KF)\n",
      "rt-detr-l summary: 494 layers, 32,148,140 parameters, 0 gradients, 103.8 GFLOPs\n",
      "\n",
      "\u001b[34m\u001b[1mPyTorch:\u001b[0m starting from 'F:\\Studio\\inferx\\models\\pt\\rtdetr-l.pt' with input shape (1, 3, 640, 640) BCHW and output shape(s) (1, 300, 84) (63.4 MB)\n",
      "\n",
      "\u001b[34m\u001b[1mONNX:\u001b[0m starting export with onnx 1.16.0 opset 19...\n",
      "\u001b[34m\u001b[1mONNX:\u001b[0m export success  3.2s, saved as 'F:\\Studio\\inferx\\models\\pt\\rtdetr-l.onnx' (122.7 MB)\n",
      "\n",
      "Export complete (6.9s)\n",
      "Results saved to \u001b[1mF:\\Studio\\inferx\\models\\pt\u001b[0m\n",
      "Predict:         yolo predict task=detect model=F:\\Studio\\inferx\\models\\pt\\rtdetr-l.onnx imgsz=640  \n",
      "Validate:        yolo val task=detect model=F:\\Studio\\inferx\\models\\pt\\rtdetr-l.onnx imgsz=640 data=None  \n",
      "Visualize:       https://netron.app\n"
     ]
    }
   ],
   "source": [
    "from ultralytics import RTDETR\n",
    "\n",
    "model = RTDETR(\"F:\\\\Studio\\\\inferx\\\\models\\\\pt\\\\rtdetr-l.pt\")\n",
    "\n",
    "# Display model information (optional)\n",
    "model.info()\n",
    "\n",
    "success = model.export(format=\"onnx\",dynamic=True)"
   ]
  }
 ],
 "metadata": {
  "kernelspec": {
   "display_name": "yolov8",
   "language": "python",
   "name": "python3"
  },
  "language_info": {
   "codemirror_mode": {
    "name": "ipython",
    "version": 3
   },
   "file_extension": ".py",
   "mimetype": "text/x-python",
   "name": "python",
   "nbconvert_exporter": "python",
   "pygments_lexer": "ipython3",
   "version": "3.8.0"
  }
 },
 "nbformat": 4,
 "nbformat_minor": 5
}
