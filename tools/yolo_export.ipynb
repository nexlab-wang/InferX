{
 "cells": [
  {
   "cell_type": "code",
   "execution_count": null,
   "id": "077b277e",
   "metadata": {},
   "outputs": [
    {
     "name": "stdout",
     "output_type": "stream",
     "text": [
      "Ultralytics YOLOv8.2.75  Python-3.8.0 torch-2.4.0+cu121 CPU (Intel Core(TM) i7-14700KF)\n",
      "YOLOv8n-obb summary (fused): 187 layers, 3,080,144 parameters, 0 gradients, 8.3 GFLOPs\n",
      "\n",
      "\u001b[34m\u001b[1mPyTorch:\u001b[0m starting from 'F:\\Studio\\inferx\\models\\pt\\yolov8n-obb.pt' with input shape (1, 3, 640, 640) BCHW and output shape(s) (1, 20, 8400) (6.3 MB)\n",
      "\n",
      "\u001b[34m\u001b[1mONNX:\u001b[0m starting export with onnx 1.16.0 opset 17...\n",
      "\u001b[34m\u001b[1mONNX:\u001b[0m export success  0.5s, saved as 'F:\\Studio\\inferx\\models\\pt\\yolov8n-obb.onnx' (11.8 MB)\n",
      "\n",
      "Export complete (2.3s)\n",
      "Results saved to \u001b[1mF:\\Studio\\inferx\\models\\pt\u001b[0m\n",
      "Predict:         yolo predict task=obb model=F:\\Studio\\inferx\\models\\pt\\yolov8n-obb.onnx imgsz=640  \n",
      "Validate:        yolo val task=obb model=F:\\Studio\\inferx\\models\\pt\\yolov8n-obb.onnx imgsz=640 data=runs/DOTAv1.0-ms.yaml  \n",
      "Visualize:       https://netron.app\n",
      "Batch size: 1, Output shape: (1, 20, 8400)\n",
      "Batch size: 2, Output shape: (2, 20, 8400)\n",
      "Batch size: 3, Output shape: (3, 20, 8400)\n",
      "Batch size: 4, Output shape: (4, 20, 8400)\n"
     ]
    }
   ],
   "source": [
    "from ultralytics import YOLO\n",
    "import onnxruntime as ort\n",
    "import numpy as np\n",
    "\n",
    "pt_file_path=r\"F:\\Studio\\inferx\\models\\pt\\yolov8n-obb.pt\"\n",
    "onnx_file_path=\"F:\\\\Studio\\\\inferx\\\\models\\\\pt\\\\yolov8n-obb.onnx\"\n",
    "\n",
    "model = YOLO(pt_file_path)\n",
    "\n",
    "model.export(format=\"onnx\",imgsz=640,dynamic=True,opset=17)\n",
    "\n",
    "\n",
    "session = ort.InferenceSession(onnx_file_path)\n",
    "\n",
    "# 测试不同batch大小的输入\n",
    "for batch_size in [1, 2, 3, 4]:\n",
    "    dummy_input = np.random.rand(batch_size, 3, 640, 640).astype(np.float32)\n",
    "    outputs = session.run(None, {\"images\": dummy_input})\n",
    "    print(f\"Batch size: {batch_size}, Output shape: {outputs[0].shape}\")"
   ]
  }
 ],
 "metadata": {
  "kernelspec": {
   "display_name": "yolov8",
   "language": "python",
   "name": "python3"
  },
  "language_info": {
   "codemirror_mode": {
    "name": "ipython",
    "version": 3
   },
   "file_extension": ".py",
   "mimetype": "text/x-python",
   "name": "python",
   "nbconvert_exporter": "python",
   "pygments_lexer": "ipython3",
   "version": "3.8.0"
  }
 },
 "nbformat": 4,
 "nbformat_minor": 5
}
